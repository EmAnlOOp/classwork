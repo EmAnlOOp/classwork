{
 "cells": [
  {
   "cell_type": "code",
   "execution_count": null,
   "id": "fff63299",
   "metadata": {},
   "outputs": [],
   "source": [
    "#  comments are not read by the Python interpreter"
   ]
  },
  {
   "cell_type": "markdown",
   "id": "c738a607",
   "metadata": {},
   "source": [
    "Variables "
   ]
  },
  {
   "cell_type": "code",
   "execution_count": 14,
   "id": "9d8a29ae",
   "metadata": {},
   "outputs": [],
   "source": [
    "var = \"My Variable\""
   ]
  },
  {
   "cell_type": "code",
   "execution_count": 15,
   "id": "b8ee20ab",
   "metadata": {},
   "outputs": [
    {
     "name": "stdout",
     "output_type": "stream",
     "text": [
      "My Variable\n"
     ]
    }
   ],
   "source": [
    "print(var)"
   ]
  },
  {
   "cell_type": "code",
   "execution_count": 16,
   "id": "8654da5f",
   "metadata": {},
   "outputs": [],
   "source": [
    "# variables are storage devices that can store antything and anything that is put in variables is evaluated \n"
   ]
  },
  {
   "cell_type": "markdown",
   "id": "d8e111e6",
   "metadata": {},
   "source": [
    "Naming Conventions "
   ]
  },
  {
   "cell_type": "markdown",
   "id": "bbf0c4ff",
   "metadata": {},
   "source": [
    "## Naming Conventions \n",
    "\n",
    "snake_case \n",
    "\n",
    "camelCase\n",
    "\n",
    "PascalCase\n"
   ]
  },
  {
   "cell_type": "code",
   "execution_count": 17,
   "id": "2428c62f",
   "metadata": {},
   "outputs": [],
   "source": [
    "my_variable = \"A new variable\"\n"
   ]
  },
  {
   "cell_type": "markdown",
   "id": "9b4857f4",
   "metadata": {},
   "source": [
    "Basic Data Types "
   ]
  },
  {
   "cell_type": "code",
   "execution_count": 21,
   "id": "016b2da2",
   "metadata": {},
   "outputs": [
    {
     "name": "stdout",
     "output_type": "stream",
     "text": [
      "12, 345a;sdfghjkla\n"
     ]
    },
    {
     "data": {
      "text/plain": [
       "'what our string is'"
      ]
     },
     "execution_count": 21,
     "metadata": {},
     "output_type": "execute_result"
    }
   ],
   "source": [
    "# Strings, ints, floats, boolean\n",
    "\n",
    "my_str = \"12, 345a;sdfghjkla\"\n",
    "str2 = str(\"what our string is\")\n",
    "print(my_str)\n",
    "str2"
   ]
  },
  {
   "cell_type": "code",
   "execution_count": 22,
   "id": "7aade0fc",
   "metadata": {},
   "outputs": [
    {
     "name": "stdout",
     "output_type": "stream",
     "text": [
      "12 21 21\n"
     ]
    }
   ],
   "source": [
    "my_int = 12 \n",
    "int2 = int(21)\n",
    "int3 = int(21.223)\n",
    "\n",
    "print(my_int,int2,int3 )"
   ]
  },
  {
   "cell_type": "code",
   "execution_count": 23,
   "id": "45810ac6",
   "metadata": {},
   "outputs": [
    {
     "name": "stdout",
     "output_type": "stream",
     "text": [
      "1.111 1.0\n"
     ]
    }
   ],
   "source": [
    "my_float = 1.111\n",
    "float2 = float(1)\n",
    "print(my_float, float2)"
   ]
  },
  {
   "cell_type": "code",
   "execution_count": 24,
   "id": "fe00b914",
   "metadata": {},
   "outputs": [
    {
     "data": {
      "text/plain": [
       "'1.111'"
      ]
     },
     "execution_count": 24,
     "metadata": {},
     "output_type": "execute_result"
    }
   ],
   "source": [
    "str(my_float)"
   ]
  },
  {
   "cell_type": "code",
   "execution_count": 25,
   "id": "9a2ddb1a",
   "metadata": {},
   "outputs": [
    {
     "ename": "ValueError",
     "evalue": "could not convert string to float: '12, 345a;sdfghjkla'",
     "output_type": "error",
     "traceback": [
      "\u001b[0;31m---------------------------------------------------------------------------\u001b[0m",
      "\u001b[0;31mValueError\u001b[0m                                Traceback (most recent call last)",
      "Cell \u001b[0;32mIn[25], line 1\u001b[0m\n\u001b[0;32m----> 1\u001b[0m \u001b[38;5;28mfloat\u001b[39m(my_str)\n",
      "\u001b[0;31mValueError\u001b[0m: could not convert string to float: '12, 345a;sdfghjkla'"
     ]
    }
   ],
   "source": [
    "float(my_str)"
   ]
  },
  {
   "cell_type": "code",
   "execution_count": 26,
   "id": "4ada52d9",
   "metadata": {},
   "outputs": [
    {
     "data": {
      "text/plain": [
       "(True, True)"
      ]
     },
     "execution_count": 26,
     "metadata": {},
     "output_type": "execute_result"
    }
   ],
   "source": [
    "# booleans \n",
    "boolean = True\n",
    "my_bool = bool(my_str)\n",
    "boolean, my_bool"
   ]
  },
  {
   "cell_type": "code",
   "execution_count": 27,
   "id": "0e03de67",
   "metadata": {},
   "outputs": [
    {
     "data": {
      "text/plain": [
       "bool"
      ]
     },
     "execution_count": 27,
     "metadata": {},
     "output_type": "execute_result"
    }
   ],
   "source": [
    "type(boolean)"
   ]
  },
  {
   "cell_type": "code",
   "execution_count": 28,
   "id": "43ce6922",
   "metadata": {},
   "outputs": [
    {
     "data": {
      "text/plain": [
       "str"
      ]
     },
     "execution_count": 28,
     "metadata": {},
     "output_type": "execute_result"
    }
   ],
   "source": [
    "type(my_str)"
   ]
  },
  {
   "cell_type": "code",
   "execution_count": 31,
   "id": "28e6eb27",
   "metadata": {},
   "outputs": [
    {
     "data": {
      "text/plain": [
       "False"
      ]
     },
     "execution_count": 31,
     "metadata": {},
     "output_type": "execute_result"
    }
   ],
   "source": [
    "is_greater_than_twelve = my_int > 12\n",
    "is_greater_than_twelve"
   ]
  },
  {
   "cell_type": "code",
   "execution_count": 32,
   "id": "aa817744",
   "metadata": {},
   "outputs": [
    {
     "data": {
      "text/plain": [
       "'12, 345A;SDFGHJKLA'"
      ]
     },
     "execution_count": 32,
     "metadata": {},
     "output_type": "execute_result"
    }
   ],
   "source": [
    "my_str.upper()"
   ]
  },
  {
   "cell_type": "code",
   "execution_count": 46,
   "id": "afd73dc5",
   "metadata": {},
   "outputs": [
    {
     "name": "stdout",
     "output_type": "stream",
     "text": [
      "12, 345A;SDFGHJKLA What our string is What Our String Is 1\n"
     ]
    }
   ],
   "source": [
    "a = my_str.upper()\n",
    "b = str2.capitalize()\n",
    "c = str2.title()\n",
    "d = str2.count(\"a\")\n",
    "\n",
    "print(a,b,c,d)"
   ]
  },
  {
   "cell_type": "code",
   "execution_count": 47,
   "id": "0cbe7887",
   "metadata": {},
   "outputs": [
    {
     "data": {
      "text/plain": [
       "18"
      ]
     },
     "execution_count": 47,
     "metadata": {},
     "output_type": "execute_result"
    }
   ],
   "source": [
    "len(str2)"
   ]
  },
  {
   "cell_type": "code",
   "execution_count": 48,
   "id": "f9f120c0",
   "metadata": {},
   "outputs": [
    {
     "data": {
      "text/plain": [
       "13.111"
      ]
     },
     "execution_count": 48,
     "metadata": {},
     "output_type": "execute_result"
    }
   ],
   "source": [
    "my_float + my_int"
   ]
  },
  {
   "cell_type": "code",
   "execution_count": 49,
   "id": "a50c17df",
   "metadata": {},
   "outputs": [
    {
     "data": {
      "text/plain": [
       "13.111"
      ]
     },
     "execution_count": 49,
     "metadata": {},
     "output_type": "execute_result"
    }
   ],
   "source": [
    "my_int + my_float"
   ]
  },
  {
   "cell_type": "code",
   "execution_count": 50,
   "id": "d3c62afd",
   "metadata": {},
   "outputs": [
    {
     "data": {
      "text/plain": [
       "13"
      ]
     },
     "execution_count": 50,
     "metadata": {},
     "output_type": "execute_result"
    }
   ],
   "source": [
    "int(my_float) + my_int"
   ]
  },
  {
   "cell_type": "code",
   "execution_count": 51,
   "id": "60a4f844",
   "metadata": {},
   "outputs": [
    {
     "data": {
      "text/plain": [
       "8"
      ]
     },
     "execution_count": 51,
     "metadata": {},
     "output_type": "execute_result"
    }
   ],
   "source": [
    "4*2"
   ]
  },
  {
   "cell_type": "code",
   "execution_count": 52,
   "id": "7a4c972a",
   "metadata": {},
   "outputs": [
    {
     "data": {
      "text/plain": [
       "2.0"
      ]
     },
     "execution_count": 52,
     "metadata": {},
     "output_type": "execute_result"
    }
   ],
   "source": [
    "4/2"
   ]
  },
  {
   "cell_type": "code",
   "execution_count": 53,
   "id": "52099ee7",
   "metadata": {},
   "outputs": [
    {
     "data": {
      "text/plain": [
       "16"
      ]
     },
     "execution_count": 53,
     "metadata": {},
     "output_type": "execute_result"
    }
   ],
   "source": [
    "4**2"
   ]
  },
  {
   "cell_type": "code",
   "execution_count": null,
   "id": "95cec8b5",
   "metadata": {},
   "outputs": [
    {
     "data": {
      "text/plain": [
       "124"
      ]
     },
     "execution_count": 59,
     "metadata": {},
     "output_type": "execute_result"
    }
   ],
   "source": [
    "import math\n",
    "neg = 123.22\n",
    "abs(neg) \n",
    "math.floor(neg)\n",
    "math.ceil(neg)\n"
   ]
  }
 ],
 "metadata": {
  "kernelspec": {
   "display_name": "base",
   "language": "python",
   "name": "python3"
  },
  "language_info": {
   "codemirror_mode": {
    "name": "ipython",
    "version": 3
   },
   "file_extension": ".py",
   "mimetype": "text/x-python",
   "name": "python",
   "nbconvert_exporter": "python",
   "pygments_lexer": "ipython3",
   "version": "3.13.5"
  }
 },
 "nbformat": 4,
 "nbformat_minor": 5
}
