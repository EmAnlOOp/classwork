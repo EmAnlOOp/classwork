{
 "cells": [
  {
   "cell_type": "markdown",
   "id": "c577e56e",
   "metadata": {},
   "source": [
    "Type Hinting \n",
    "\n",
    "Boolean operations \n",
    "\n",
    "comparisons \n",
    "\n",
    "Truthy/Falsy \n",
    "\n",
    "in,or,not, and \n",
    "\n",
    "if statements \n",
    "\n",
    "nested ifs \n",
    "\n",
    "one-line ifs \n",
    "\n",
    "validation \n",
    "\n",
    "try-except "
   ]
  },
  {
   "cell_type": "code",
   "execution_count": 18,
   "id": "63fa0be9",
   "metadata": {},
   "outputs": [
    {
     "ename": "ValueError",
     "evalue": "invalid literal for int() with base 10: ''",
     "output_type": "error",
     "traceback": [
      "\u001b[0;31m---------------------------------------------------------------------------\u001b[0m",
      "\u001b[0;31mValueError\u001b[0m                                Traceback (most recent call last)",
      "Cell \u001b[0;32mIn[18], line 4\u001b[0m\n\u001b[1;32m      2\u001b[0m \u001b[38;5;28;01mfrom\u001b[39;00m\u001b[38;5;250m \u001b[39m\u001b[38;5;21;01mtyping\u001b[39;00m\u001b[38;5;250m \u001b[39m\u001b[38;5;28;01mimport\u001b[39;00m Union \n\u001b[1;32m      3\u001b[0m age: Union[\u001b[38;5;28mstr\u001b[39m, \u001b[38;5;28mint\u001b[39m] \u001b[38;5;241m=\u001b[39m \u001b[38;5;28minput\u001b[39m(\u001b[38;5;124m\"\u001b[39m\u001b[38;5;124mWhat is your age?\u001b[39m\u001b[38;5;124m\"\u001b[39m)\n\u001b[0;32m----> 4\u001b[0m \u001b[38;5;28mprint\u001b[39m(\u001b[38;5;28mint\u001b[39m(age))\n\u001b[1;32m      5\u001b[0m string: \u001b[38;5;28mstr\u001b[39m \u001b[38;5;241m=\u001b[39m \u001b[38;5;124m\"\u001b[39m\u001b[38;5;124mits in quotes\u001b[39m\u001b[38;5;124m\"\u001b[39m\n\u001b[1;32m      6\u001b[0m integer:\u001b[38;5;28mint\u001b[39m \u001b[38;5;241m=\u001b[39m \u001b[38;5;241m9\u001b[39m\n",
      "\u001b[0;31mValueError\u001b[0m: invalid literal for int() with base 10: ''"
     ]
    }
   ],
   "source": [
    "# simple-type hinting (str, float, int, bool)\n",
    "from typing import Union \n",
    "age: Union[str, int] = input(\"What is your age?\")\n",
    "print(int(age))\n",
    "string: str = \"its in quotes\"\n",
    "integer:int = 9\n",
    "fl:float = 9.0\n",
    "is_true;bool = True \n",
    "\n",
    "\n",
    "\n",
    "type(string)"
   ]
  },
  {
   "cell_type": "code",
   "execution_count": null,
   "id": "bd3a910e",
   "metadata": {},
   "outputs": [
    {
     "ename": "SyntaxError",
     "evalue": "':' expected after dictionary key (1384766765.py, line 18)",
     "output_type": "error",
     "traceback": [
      "\u001b[0;36m  Cell \u001b[0;32mIn[8], line 18\u001b[0;36m\u001b[0m\n\u001b[0;31m    print(user['address'])\u001b[0m\n\u001b[0m                         ^\u001b[0m\n\u001b[0;31mSyntaxError\u001b[0m\u001b[0;31m:\u001b[0m ':' expected after dictionary key\n"
     ]
    }
   ],
   "source": [
    "# complex types must be imported \n",
    "from typing import List, Tuple, Self, Dict, TypedDict\n",
    "list1:list [int] = [1,2,3,4,]\n",
    "set1: set[int] = { 1,23,23,23,4}\n",
    "tup1: tuple [int] = {1,2,3,4,}\n",
    "d1: dict[str,str] = {\"key\" : 'value'}\n",
    "\n",
    "class usertypes (TypedDict):\n",
    "    name : str\n",
    "    age: int\n",
    "    address : str\n",
    "    \n",
    "user : usertypes = {\n",
    "    \"name\" : \"Nate\", \n",
    "    \"age\" : 39, \n",
    "    \"address\" : \"something\", \n",
    "    \n",
    "    print(user['address'])\n",
    "}"
   ]
  },
  {
   "cell_type": "code",
   "execution_count": null,
   "id": "3abb8754",
   "metadata": {},
   "outputs": [
    {
     "data": {
      "text/plain": [
       "True"
      ]
     },
     "execution_count": 9,
     "metadata": {},
     "output_type": "execute_result"
    }
   ],
   "source": [
    "# comparison ==, < , >, >=, <=,, != \n",
    "x = 10 \n",
    "y = 11\n",
    "b = x != y \n",
    "b"
   ]
  },
  {
   "cell_type": "code",
   "execution_count": 19,
   "id": "3398452f",
   "metadata": {},
   "outputs": [
    {
     "name": "stdout",
     "output_type": "stream",
     "text": [
      "nate\n",
      "name is not Nate\n"
     ]
    }
   ],
   "source": [
    "# Truthy / Falsy \n",
    "# eveyrthing in python has a boolean rep\n",
    "# falsey = 0, 0.0,[], {}, (), None, \"\"\n",
    "# if statemnt  \n",
    "name: str = \"nate\"\n",
    "something  = False \n",
    "somethinelse = False  \n",
    "if name: \n",
    "    print(name)\n",
    "    if name == \"Nate\": \n",
    "        print(\"Nate is the name\")\n",
    "    else: \n",
    "        print(\"name is not Nate\")\n",
    "elif not name:\n",
    "    name = input(\"what is your name?\")\n",
    "else : \n",
    "    print(\"niether are True\")\n",
    "    "
   ]
  },
  {
   "cell_type": "code",
   "execution_count": 20,
   "id": "e3bc3356",
   "metadata": {},
   "outputs": [
    {
     "data": {
      "text/plain": [
       "'nate'"
      ]
     },
     "execution_count": 20,
     "metadata": {},
     "output_type": "execute_result"
    }
   ],
   "source": [
    "name"
   ]
  },
  {
   "cell_type": "code",
   "execution_count": 22,
   "id": "93cff040",
   "metadata": {},
   "outputs": [
    {
     "name": "stdout",
     "output_type": "stream",
     "text": [
      "neither work\n"
     ]
    }
   ],
   "source": [
    "# in, or , not, and \n",
    "x = 10 \n",
    "y = 11\n",
    "\n",
    "if x > y or x + y == 11: \n",
    "    print(\"something\")\n",
    "else: \n",
    "    print(\"neither work\")"
   ]
  },
  {
   "cell_type": "code",
   "execution_count": 23,
   "id": "0f8ea10b",
   "metadata": {},
   "outputs": [
    {
     "name": "stdout",
     "output_type": "stream",
     "text": [
      "We are happy\n"
     ]
    }
   ],
   "source": [
    "if x < y and x + y == 21: \n",
    "    print(\"We are happy\")\n",
    "else: \n",
    "    print(\"both are not true\")"
   ]
  },
  {
   "cell_type": "code",
   "execution_count": 24,
   "id": "4ced6f86",
   "metadata": {},
   "outputs": [
    {
     "name": "stdout",
     "output_type": "stream",
     "text": [
      "both truish\n"
     ]
    }
   ],
   "source": [
    "if x == 10 and (y == 12 or y > x): \n",
    "    print (\"both truish\")"
   ]
  },
  {
   "cell_type": "code",
   "execution_count": 27,
   "id": "8b74f68b",
   "metadata": {},
   "outputs": [
    {
     "ename": "TypeError",
     "evalue": "argument of type 'int' is not iterable",
     "output_type": "error",
     "traceback": [
      "\u001b[0;31m---------------------------------------------------------------------------\u001b[0m",
      "\u001b[0;31mTypeError\u001b[0m                                 Traceback (most recent call last)",
      "Cell \u001b[0;32mIn[27], line 3\u001b[0m\n\u001b[1;32m      1\u001b[0m l1:\u001b[38;5;28mlist\u001b[39m[\u001b[38;5;28mint\u001b[39m] \u001b[38;5;241m=\u001b[39m [\u001b[38;5;241m1\u001b[39m,\u001b[38;5;241m2\u001b[39m,\u001b[38;5;241m34\u001b[39m,\u001b[38;5;241m42\u001b[39m]\n\u001b[0;32m----> 3\u001b[0m \u001b[38;5;28;01mif\u001b[39;00m \u001b[38;5;241m42\u001b[39m \u001b[38;5;129;01min\u001b[39;00m \u001b[38;5;241m11\u001b[39m: \n\u001b[1;32m      4\u001b[0m     \u001b[38;5;28mprint\u001b[39m(\u001b[38;5;124m\"\u001b[39m\u001b[38;5;124m42 exists\u001b[39m\u001b[38;5;124m\"\u001b[39m)\n\u001b[1;32m      5\u001b[0m     \u001b[38;5;28;01mif\u001b[39;00m \u001b[38;5;241m1\u001b[39m \u001b[38;5;129;01min\u001b[39;00m \u001b[38;5;241m11\u001b[39m: \n",
      "\u001b[0;31mTypeError\u001b[0m: argument of type 'int' is not iterable"
     ]
    }
   ],
   "source": [
    "l1:list[int] = [1,2,34,42]\n",
    "\n",
    "if 42 in 11: \n",
    "    print(\"42 exists\")\n",
    "    if 1 in 11: \n",
    "        print(\"1 also exists\")\n",
    "elif 1 in 11: \n",
    "    print(\"1 exists\")\n",
    "else: \n",
    "    print(\"none exists\")"
   ]
  },
  {
   "cell_type": "code",
   "execution_count": 35,
   "id": "f95be1a4",
   "metadata": {},
   "outputs": [
    {
     "name": "stdout",
     "output_type": "stream",
     "text": [
      "num of special thing : 2\n"
     ]
    },
    {
     "data": {
      "text/plain": [
       "2"
      ]
     },
     "execution_count": 35,
     "metadata": {},
     "output_type": "execute_result"
    }
   ],
   "source": [
    "colors = {\n",
    "    \"red\": 1, \n",
    "    \"blue\": 2, \n",
    "    \"green\": 3, \n",
    "    \"yellow\": 4,\n",
    "}\n",
    "\n",
    "special_thing = \"blue\"\n",
    "print(f\"num of special thing : {colors[special_thing]}\")\n",
    "special_thing = colors[special_thing]\n",
    "\n",
    "#if special_thing == \"blue\":\n",
    "# special_thing = 2 \n",
    "#elif special_thing == \"red\":\n",
    "#    special_thing = 1 \n",
    "#elif special_thing == \"green\": \n",
    " #   special_thing = 3 \n",
    "#elif special_thing == \"yellow\": \n",
    "#    special_thing = 4 \n",
    "#else: \n",
    "#    print(\"no special thing\")\n",
    "    \n",
    "special_thing"
   ]
  },
  {
   "cell_type": "code",
   "execution_count": 38,
   "id": "479db6cc",
   "metadata": {},
   "outputs": [
    {
     "name": "stdout",
     "output_type": "stream",
     "text": [
      "num of special thing : 999\n"
     ]
    },
    {
     "data": {
      "text/plain": [
       "999"
      ]
     },
     "execution_count": 38,
     "metadata": {},
     "output_type": "execute_result"
    }
   ],
   "source": [
    "colors = {\n",
    "    \"red\": 1, \n",
    "    \"blue\": 2, \n",
    "    \"green\": 3, \n",
    "    \"yellow\": 4,\n",
    "}\n",
    "\n",
    "special_thing = \"grey\"\n",
    "print(f\"num of special thing : {colors.get(special_thing, 999)}\")\n",
    "special_thing = colors.get(special_thing, 999)\n",
    "\n",
    "special_thing"
   ]
  },
  {
   "cell_type": "code",
   "execution_count": null,
   "id": "5a6ca18b",
   "metadata": {},
   "outputs": [
    {
     "ename": "NameError",
     "evalue": "name 'TypedDict' is not defined",
     "output_type": "error",
     "traceback": [
      "\u001b[0;31m---------------------------------------------------------------------------\u001b[0m",
      "\u001b[0;31mNameError\u001b[0m                                 Traceback (most recent call last)",
      "Cell \u001b[0;32mIn[50], line 3\u001b[0m\n\u001b[1;32m      1\u001b[0m \u001b[38;5;28;01mfrom\u001b[39;00m\u001b[38;5;250m \u001b[39m\u001b[38;5;21;01mtyping\u001b[39;00m\u001b[38;5;250m \u001b[39m\u001b[38;5;28;01mimport\u001b[39;00m Union\n\u001b[0;32m----> 3\u001b[0m \u001b[38;5;28;01mclass\u001b[39;00m\u001b[38;5;250m \u001b[39m\u001b[38;5;21;01mUser2Types\u001b[39;00m(TypedDict) : \n\u001b[1;32m      4\u001b[0m     name: \u001b[38;5;28mstr\u001b[39m\n\u001b[1;32m      5\u001b[0m     age : \u001b[38;5;28mfloat\u001b[39m \n",
      "\u001b[0;31mNameError\u001b[0m: name 'TypedDict' is not defined"
     ]
    }
   ],
   "source": [
    "from typing import Union\n",
    "\n",
    "class User2Types(TypedDict) : \n",
    "    name: str\n",
    "    age : float \n",
    "    username: str\n",
    "    \n",
    "name: str = input(\"What's your name\")\n",
    "age: Union[str, int] = input(\"What's your age\")\n",
    "try:\n",
    "    age = age(int)\n",
    "    username: str = input(\"Choose a username\")\n",
    "    \n",
    "    u2 = {\n",
    "        \"name\": name, \n",
    "        \"age\": age, \n",
    "        \"username\": username, \n",
    "        \"is_of_age\": age > 18, \n",
    "    }\n",
    "    print(u2)   \n",
    "except Exception as e: \n",
    "    print(\"age must be a number, please try again\")\n",
    "\n",
    "\n",
    "\n"
   ]
  },
  {
   "cell_type": "code",
   "execution_count": null,
   "id": "7a5bfbbf",
   "metadata": {},
   "outputs": [
    {
     "ename": "NameError",
     "evalue": "name 'TypedDict' is not defined",
     "output_type": "error",
     "traceback": [
      "\u001b[0;31m---------------------------------------------------------------------------\u001b[0m",
      "\u001b[0;31mNameError\u001b[0m                                 Traceback (most recent call last)",
      "Cell \u001b[0;32mIn[51], line 3\u001b[0m\n\u001b[1;32m      1\u001b[0m \u001b[38;5;28;01mfrom\u001b[39;00m\u001b[38;5;250m \u001b[39m\u001b[38;5;21;01mtyping\u001b[39;00m\u001b[38;5;250m \u001b[39m\u001b[38;5;28;01mimport\u001b[39;00m Union\n\u001b[0;32m----> 3\u001b[0m \u001b[38;5;28;01mclass\u001b[39;00m\u001b[38;5;250m \u001b[39m\u001b[38;5;21;01mUser2Types\u001b[39;00m(TypedDict) : \n\u001b[1;32m      4\u001b[0m     name: \u001b[38;5;28mstr\u001b[39m\n\u001b[1;32m      5\u001b[0m     age : \u001b[38;5;28mfloat\u001b[39m \n",
      "\u001b[0;31mNameError\u001b[0m: name 'TypedDict' is not defined"
     ]
    }
   ],
   "source": [
    "from typing import Union\n",
    "\n",
    "class User2Types(TypedDict): \n",
    "    name: str\n",
    "    age : float \n",
    "    username: str\n",
    "    \n",
    "name: str = input(\"What's your name\")\n",
    "age: Union[str, int] = input(\"What's your age\")\n",
    "try:\n",
    "    age = age(int)\n",
    "    username: str = input(\"Choose a username\")\n",
    "    \n",
    "    u2 = {\n",
    "        \"name\": name, \n",
    "        \"age\": age, \n",
    "        \"username\": username, \n",
    "        \"is_of_age\": age > 18, \n",
    "    }\n",
    "    print(u2)   \n",
    "except Exception as e: \n",
    "    print(\"age must be a number\")\n",
    "\n"
   ]
  }
 ],
 "metadata": {
  "kernelspec": {
   "display_name": "base",
   "language": "python",
   "name": "python3"
  },
  "language_info": {
   "codemirror_mode": {
    "name": "ipython",
    "version": 3
   },
   "file_extension": ".py",
   "mimetype": "text/x-python",
   "name": "python",
   "nbconvert_exporter": "python",
   "pygments_lexer": "ipython3",
   "version": "3.13.5"
  }
 },
 "nbformat": 4,
 "nbformat_minor": 5
}
