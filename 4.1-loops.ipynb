{
 "cells": [
  {
   "cell_type": "code",
   "execution_count": null,
   "id": "00724d43",
   "metadata": {},
   "outputs": [],
   "source": [
    "# for loops \n",
    "l = []\n",
    "while len(1) < 25:\n",
    "    if not 1:\n",
    "        1.append(0)\n",
    "        continue # tells pyhton to move to next iteration \n",
    "    1.append(1[-1]+1)\n",
    "print(1)"
   ]
  },
  {
   "cell_type": "code",
   "execution_count": null,
   "id": "a46c64db",
   "metadata": {},
   "outputs": [],
   "source": [
    "# for loops \n",
    "l = []\n",
    "while len(1) < 25: \n",
    "    if not 1: \n",
    "        1."
   ]
  },
  {
   "cell_type": "code",
   "execution_count": 1,
   "id": "086a5cc9",
   "metadata": {},
   "outputs": [
    {
     "name": "stdout",
     "output_type": "stream",
     "text": [
      "25\n"
     ]
    }
   ],
   "source": [
    "counter = 0 \n",
    "while counter < 25: \n",
    "    counter +=1\n",
    "print(counter)"
   ]
  }
 ],
 "metadata": {
  "kernelspec": {
   "display_name": "base",
   "language": "python",
   "name": "python3"
  },
  "language_info": {
   "codemirror_mode": {
    "name": "ipython",
    "version": 3
   },
   "file_extension": ".py",
   "mimetype": "text/x-python",
   "name": "python",
   "nbconvert_exporter": "python",
   "pygments_lexer": "ipython3",
   "version": "3.13.5"
  }
 },
 "nbformat": 4,
 "nbformat_minor": 5
}
