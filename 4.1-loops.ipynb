{
 "cells": [
  {
   "cell_type": "code",
   "execution_count": null,
   "id": "00724d43",
   "metadata": {},
   "outputs": [],
   "source": [
    "# for loops \n",
    "l = []\n",
    "while len(1) < 25:\n",
    "    if not 1:\n",
    "        1.append(0)\n",
    "        continue # tells pyhton to move to next iteration \n",
    "    1.append(1[-1]+1)\n",
    "print(1)"
   ]
  },
  {
   "cell_type": "code",
   "execution_count": null,
   "id": "6e83b031",
   "metadata": {},
   "outputs": [],
   "source": []
  },
  {
   "cell_type": "code",
   "execution_count": null,
   "id": "086a5cc9",
   "metadata": {},
   "outputs": [
    {
     "name": "stdout",
     "output_type": "stream",
     "text": [
      "25\n"
     ]
    }
   ],
   "source": [
    "counter = 0 \n",
    "while counter < 25: \n",
    "    counter +=1\n",
    "print(counter)"
   ]
  },
  {
   "cell_type": "code",
   "execution_count": 12,
   "id": "7ca46178",
   "metadata": {},
   "outputs": [],
   "source": [
    "counter = 0 \n",
    "while True: \n",
    "    if counter >= 25:\n",
    "        break\n",
    "    counter += 1 "
   ]
  },
  {
   "cell_type": "code",
   "execution_count": null,
   "id": "bffcd762",
   "metadata": {},
   "outputs": [],
   "source": [
    "# for loops / range ()\n",
    "# iterable = all collections \n",
    "string = \"I'm a string\"\n",
    "for char in string: \n",
    "    print (char)"
   ]
  },
  {
   "cell_type": "code",
   "execution_count": 14,
   "id": "7b9a080f",
   "metadata": {},
   "outputs": [
    {
     "name": "stdout",
     "output_type": "stream",
     "text": [
      "0\n",
      "2\n",
      "4\n",
      "6\n",
      "8\n",
      "10\n",
      "12\n",
      "14\n",
      "16\n",
      "18\n",
      "20\n",
      "22\n",
      "24\n"
     ]
    }
   ],
   "source": [
    "for num in range(25): # (total), (start, total), (start, tot, step)\n",
    "    if num % 2 != 0: \n",
    "        continue\n",
    "    if num == 19: \n",
    "        break \n",
    "        print(somehi) \n",
    "    print(num)"
   ]
  },
  {
   "cell_type": "code",
   "execution_count": 20,
   "id": "0cf5ebdb",
   "metadata": {},
   "outputs": [
    {
     "name": "stdout",
     "output_type": "stream",
     "text": [
      "{'Messi': [[0, 0], [0, 0, 1, 0, 0, 1, 0], [0, 1, 0, 0, 1], [1, 0, 0, 0], [], [1, 1, 0, 1, 1], [1, 1], [1, 0], [0, 1, 1, 1, 1], [0, 1, 1, 1, 0, 1], [1, 0, 0, 1, 1, 0], [1, 0, 0, 0, 1, 0], [1], [0, 0, 1], [0, 1, 1, 0, 1], [], [0], [0, 0, 0], [0, 0, 1, 0, 0, 1], [1, 1], [0, 1, 0, 1, 0, 0, 0], [0, 1, 0, 0, 1], [0, 0, 0, 0], [0, 0, 1, 1, 0], [0, 1], [1], [1, 1, 0], [0, 0], [0, 0, 0, 1, 1, 0], [1, 1, 0, 0, 0, 1], [0], [1, 0], [], [0, 1, 0, 1, 0, 1, 0], [1, 0, 1], [0, 1, 1, 1, 0, 1], [0], [1, 1, 0, 1, 1], [1, 1], [0, 0, 1, 1, 1, 0, 1], [0, 0, 0], [1, 0, 0, 0, 0, 1], [], [0, 0, 0, 0, 0], [0], [1, 1, 1, 1], [0, 0, 1, 1, 0], [0, 0, 0], [1, 0, 1, 0, 0], [1, 0, 0, 1, 1, 1, 1], [0, 1, 1, 0, 0], [0, 1, 1, 0, 0], [0, 1], [1, 0], [0, 0, 0, 1], [0, 1, 0, 1, 0], [0, 1, 1, 0, 1, 1], [1, 0, 1, 0, 0, 0, 0], [0, 0, 1, 1, 0, 0, 0], [0, 0, 1, 1], [0, 1, 1, 1, 1, 0, 0], [1, 1, 0], [0, 1, 1], [0, 0, 1, 1, 1], [0, 0], [0, 0, 0, 1], [0, 1], [0, 0, 0, 1], [0, 1, 0, 0, 0], [1, 0, 1, 0], [0, 1], [1, 1, 1, 0, 0, 0, 0], [0, 0, 1, 1, 1], [0], [1, 0, 1, 1, 0, 1], [0, 0, 1, 0, 0, 1], [], [1, 1, 0, 1, 0, 1, 1], [1, 0, 0], [0, 0, 1, 0], [1, 0, 1, 0, 0], [0], [0], [1, 1, 1, 1], [1, 1, 1, 0, 1], [0, 0, 1], [0, 0, 1, 1, 0, 1], [0, 0, 0, 0, 1, 0, 0], [0, 1, 0, 0, 0, 1, 1], [0, 1], [1, 1, 0], [0, 1, 0, 0, 1], [1, 1, 1], [1], [0, 0, 0, 0, 0, 1], [0, 0, 0, 0]], 'Mbappe': [[0, 0, 1, 0], [], [], [1, 1, 0, 0, 0, 1, 1], [], [0, 0, 0, 1, 0], [0, 0, 1, 1, 0], [0], [], [1, 1, 0, 1], [0, 1, 0, 1, 1, 1], [0, 0, 0], [0, 1, 1, 1], [0, 1, 1, 1, 1], [1], [1, 1, 1, 0, 0], [0, 0, 0, 0, 1, 0, 1], [1, 1, 1, 0, 1, 1, 0], [1, 1, 0, 1, 1, 1, 1], [1, 0, 1, 1, 1, 0], [1, 0, 1, 0, 1, 0, 1], [1, 0, 0, 1], [1, 0, 0, 1, 0], [1, 0, 0], [0, 1, 0, 0], [1], [0, 0], [1], [], [1, 0, 0, 0, 0, 0], [0, 0], [1, 1], [1, 1], [0, 1, 1, 1, 0], [1, 1, 1, 0], [0, 0, 1, 1], [0], [1, 1], [0, 1, 0, 1], [1, 0, 0], [], [0], [0, 0, 1, 1], [1, 0, 0, 1], [1, 0, 1, 0, 1, 0, 1], [1, 0, 0, 1], [1], [0, 0, 0, 0], [0, 1, 1, 0, 1, 1, 0], [0, 0, 1, 1, 1], [0, 1, 0, 1, 0, 1, 0], [1, 0, 1, 1, 0, 1], [0, 0, 0, 0, 1, 1], [0, 1, 0, 1, 1, 0], [0, 1, 0, 1], [], [0, 0], [1, 0, 0]], 'Ronaldo': [[], [1, 1, 1, 1, 1, 0], [0, 0, 1, 1, 1, 0], [0, 0, 1, 1, 1, 1, 0], [1, 0, 0], [0, 0], [], [1, 0, 1, 0], [0, 0, 0, 1, 0], [0, 0, 1, 0, 1, 0], [0], [0, 1, 0], [0, 1], [0, 0, 0, 0, 0, 1, 1], [0, 0], [0, 1, 0, 1], [1, 1, 0, 0], [0, 1, 1], [1, 0, 1, 0, 0], [1, 0], [0, 1, 1, 1, 1], [0, 0, 0, 1, 0], [], [1, 0, 0, 0, 0], [], [1, 0, 0, 1, 0, 1], [0], [0, 1, 1, 1], [0, 0, 0, 0, 1, 1, 1], [0, 0], [0], [1], [1, 1, 0, 0], [], [], [1, 0], [], [0]], 'Carlos': [[1, 0, 1, 1, 1, 0, 0], [0, 1, 1, 0, 0, 0, 0], [0, 1, 0, 0], [1, 1], [1, 0], [0, 1, 1, 0, 1, 0, 0], [1, 1, 0, 0, 1, 1], [0, 0, 1, 1, 0, 0], [], [1, 0, 0, 0], [1, 1, 1], [1, 0, 0], [1, 1, 0, 0, 1], [1, 0, 1], [0], [], [1, 0]]}\n"
     ]
    }
   ],
   "source": [
    "# nested loops \n",
    "import random \n",
    "players = {\"Messi\": [],\"Mbappe\": [], \"Ronaldo\": [], \"Carlos\": []}\n",
    "\n",
    "random.seed(22)\n",
    "for player in players: \n",
    "    tot_games = round(random.random() *100)\n",
    "    for game in range(tot_games):\n",
    "        game_list = []\n",
    "        tot_shots = random.randint(0,7)\n",
    "        for shot in range(tot_shots):\n",
    "            game_list.append(random.randint(0,1))\n",
    "        players[player].append(game_list)\n",
    "print(players)"
   ]
  },
  {
   "cell_type": "code",
   "execution_count": 22,
   "id": "60dc3196",
   "metadata": {},
   "outputs": [
    {
     "name": "stdout",
     "output_type": "stream",
     "text": [
      "{'Messi': {'games': 0, 'shots': 0, 'goals': 0}, 'Mbappe': {'games': 0, 'shots': 0, 'goals': 0}, 'Ronaldo': {'games': 0, 'shots': 0, 'goals': 0}, 'Carlos': {'games': 0, 'shots': 0, 'goals': 0}}\n"
     ]
    }
   ],
   "source": [
    "# list_generater = [num for num in range(10)]\n",
    "player_stats = {player: {\"games\": 0, \"shots\": 0, \"goals\": 0} for player in players\n",
    "}\n",
    "print(player_stats)"
   ]
  },
  {
   "cell_type": "code",
   "execution_count": 26,
   "id": "bc63de1a",
   "metadata": {},
   "outputs": [
    {
     "name": "stdout",
     "output_type": "stream",
     "text": [
      "{'Messi': {'games': 384, 'shots': 1500, 'goals': 672, 'goals/game': 1.75}, 'Mbappe': {'games': 232, 'shots': 840, 'goals': 424, 'goals/game': 1.8275862068965518}, 'Ronaldo': {'games': 152, 'shots': 464, 'goals': 200, 'goals/game': 1.3157894736842106}, 'Carlos': {'games': 68, 'shots': 248, 'goals': 120, 'goals/game': 1.7647058823529411}}\n"
     ]
    }
   ],
   "source": [
    "for player, l in players.items():\n",
    "    for game in l: \n",
    "        player_stats[player][\"shots\"] += len(game)\n",
    "        player_stats[player][\"goals\"] += sum(game)\n",
    "        player_stats[player][\"games\"] += 1 \n",
    "    player_stats[player][\"goals/game\"] = player_stats[player][\"goals\"] / player_stats[player][\"games\"]\n",
    "print(player_stats)"
   ]
  },
  {
   "cell_type": "code",
   "execution_count": 27,
   "id": "cdc8f12e",
   "metadata": {},
   "outputs": [
    {
     "name": "stdout",
     "output_type": "stream",
     "text": [
      "Messi\n",
      "{'games': 384, 'shots': 1500, 'goals': 672, 'goals/game': 1.75}\n",
      "Mbappe\n",
      "{'games': 232, 'shots': 840, 'goals': 424, 'goals/game': 1.8275862068965518}\n",
      "Ronaldo\n",
      "{'games': 152, 'shots': 464, 'goals': 200, 'goals/game': 1.3157894736842106}\n",
      "Carlos\n",
      "{'games': 68, 'shots': 248, 'goals': 120, 'goals/game': 1.7647058823529411}\n"
     ]
    }
   ],
   "source": [
    "for player in player_stats: \n",
    "    print(player)\n",
    "    print(player_stats[player])"
   ]
  }
 ],
 "metadata": {
  "kernelspec": {
   "display_name": "base",
   "language": "python",
   "name": "python3"
  },
  "language_info": {
   "codemirror_mode": {
    "name": "ipython",
    "version": 3
   },
   "file_extension": ".py",
   "mimetype": "text/x-python",
   "name": "python",
   "nbconvert_exporter": "python",
   "pygments_lexer": "ipython3",
   "version": "3.13.5"
  }
 },
 "nbformat": 4,
 "nbformat_minor": 5
}
