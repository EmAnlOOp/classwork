{
 "cells": [
  {
   "cell_type": "code",
   "execution_count": null,
   "id": "dd4deafb",
   "metadata": {},
   "outputs": [
    {
     "name": "stdout",
     "output_type": "stream",
     "text": [
      "Requirement already satisfied: scipy in /opt/anaconda3/lib/python3.13/site-packages (1.15.3)\n",
      "Requirement already satisfied: numpy<2.5,>=1.23.5 in /opt/anaconda3/lib/python3.13/site-packages (from scipy) (2.1.3)\n",
      "Note: you may need to restart the kernel to use updated packages.\n"
     ]
    },
    {
     "data": {
      "text/html": [
       "<div>\n",
       "<style scoped>\n",
       "    .dataframe tbody tr th:only-of-type {\n",
       "        vertical-align: middle;\n",
       "    }\n",
       "\n",
       "    .dataframe tbody tr th {\n",
       "        vertical-align: top;\n",
       "    }\n",
       "\n",
       "    .dataframe thead th {\n",
       "        text-align: right;\n",
       "    }\n",
       "</style>\n",
       "<table border=\"1\" class=\"dataframe\">\n",
       "  <thead>\n",
       "    <tr style=\"text-align: right;\">\n",
       "      <th></th>\n",
       "      <th>player_id</th>\n",
       "      <th>first_name</th>\n",
       "      <th>last_name</th>\n",
       "      <th>name</th>\n",
       "      <th>last_season</th>\n",
       "      <th>current_club_id</th>\n",
       "      <th>player_code</th>\n",
       "      <th>country_of_birth</th>\n",
       "      <th>city_of_birth</th>\n",
       "      <th>country_of_citizenship</th>\n",
       "      <th>...</th>\n",
       "      <th>foot</th>\n",
       "      <th>height_in_cm</th>\n",
       "      <th>contract_expiration_date</th>\n",
       "      <th>agent_name</th>\n",
       "      <th>image_url</th>\n",
       "      <th>url</th>\n",
       "      <th>current_club_domestic_competition_id</th>\n",
       "      <th>current_club_name</th>\n",
       "      <th>market_value_in_eur</th>\n",
       "      <th>highest_market_value_in_eur</th>\n",
       "    </tr>\n",
       "  </thead>\n",
       "  <tbody>\n",
       "    <tr>\n",
       "      <th>0</th>\n",
       "      <td>10</td>\n",
       "      <td>Miroslav</td>\n",
       "      <td>Klose</td>\n",
       "      <td>Miroslav Klose</td>\n",
       "      <td>2015</td>\n",
       "      <td>398</td>\n",
       "      <td>miroslav-klose</td>\n",
       "      <td>Poland</td>\n",
       "      <td>Opole</td>\n",
       "      <td>Germany</td>\n",
       "      <td>...</td>\n",
       "      <td>right</td>\n",
       "      <td>184.0</td>\n",
       "      <td>NaN</td>\n",
       "      <td>ASBW Sport Marketing</td>\n",
       "      <td>https://img.a.transfermarkt.technology/portrai...</td>\n",
       "      <td>https://www.transfermarkt.co.uk/miroslav-klose...</td>\n",
       "      <td>IT1</td>\n",
       "      <td>Società Sportiva Lazio S.p.A.</td>\n",
       "      <td>1000000.0</td>\n",
       "      <td>30000000.0</td>\n",
       "    </tr>\n",
       "    <tr>\n",
       "      <th>1</th>\n",
       "      <td>26</td>\n",
       "      <td>Roman</td>\n",
       "      <td>Weidenfeller</td>\n",
       "      <td>Roman Weidenfeller</td>\n",
       "      <td>2017</td>\n",
       "      <td>16</td>\n",
       "      <td>roman-weidenfeller</td>\n",
       "      <td>Germany</td>\n",
       "      <td>Diez</td>\n",
       "      <td>Germany</td>\n",
       "      <td>...</td>\n",
       "      <td>left</td>\n",
       "      <td>190.0</td>\n",
       "      <td>NaN</td>\n",
       "      <td>Neubauer 13 GmbH</td>\n",
       "      <td>https://img.a.transfermarkt.technology/portrai...</td>\n",
       "      <td>https://www.transfermarkt.co.uk/roman-weidenfe...</td>\n",
       "      <td>L1</td>\n",
       "      <td>Borussia Dortmund</td>\n",
       "      <td>750000.0</td>\n",
       "      <td>8000000.0</td>\n",
       "    </tr>\n",
       "    <tr>\n",
       "      <th>2</th>\n",
       "      <td>65</td>\n",
       "      <td>Dimitar</td>\n",
       "      <td>Berbatov</td>\n",
       "      <td>Dimitar Berbatov</td>\n",
       "      <td>2015</td>\n",
       "      <td>1091</td>\n",
       "      <td>dimitar-berbatov</td>\n",
       "      <td>Bulgaria</td>\n",
       "      <td>Blagoevgrad</td>\n",
       "      <td>Bulgaria</td>\n",
       "      <td>...</td>\n",
       "      <td>NaN</td>\n",
       "      <td>NaN</td>\n",
       "      <td>NaN</td>\n",
       "      <td>CSKA-AS-23 Ltd.</td>\n",
       "      <td>https://img.a.transfermarkt.technology/portrai...</td>\n",
       "      <td>https://www.transfermarkt.co.uk/dimitar-berbat...</td>\n",
       "      <td>GR1</td>\n",
       "      <td>Panthessalonikios Athlitikos Omilos Konstantin...</td>\n",
       "      <td>1000000.0</td>\n",
       "      <td>34500000.0</td>\n",
       "    </tr>\n",
       "    <tr>\n",
       "      <th>3</th>\n",
       "      <td>77</td>\n",
       "      <td>NaN</td>\n",
       "      <td>Lúcio</td>\n",
       "      <td>Lúcio</td>\n",
       "      <td>2012</td>\n",
       "      <td>506</td>\n",
       "      <td>lucio</td>\n",
       "      <td>Brazil</td>\n",
       "      <td>Brasília</td>\n",
       "      <td>Brazil</td>\n",
       "      <td>...</td>\n",
       "      <td>NaN</td>\n",
       "      <td>NaN</td>\n",
       "      <td>NaN</td>\n",
       "      <td>NaN</td>\n",
       "      <td>https://img.a.transfermarkt.technology/portrai...</td>\n",
       "      <td>https://www.transfermarkt.co.uk/lucio/profil/s...</td>\n",
       "      <td>IT1</td>\n",
       "      <td>Juventus Football Club</td>\n",
       "      <td>200000.0</td>\n",
       "      <td>24500000.0</td>\n",
       "    </tr>\n",
       "    <tr>\n",
       "      <th>4</th>\n",
       "      <td>80</td>\n",
       "      <td>Tom</td>\n",
       "      <td>Starke</td>\n",
       "      <td>Tom Starke</td>\n",
       "      <td>2017</td>\n",
       "      <td>27</td>\n",
       "      <td>tom-starke</td>\n",
       "      <td>East Germany (GDR)</td>\n",
       "      <td>Freital</td>\n",
       "      <td>Germany</td>\n",
       "      <td>...</td>\n",
       "      <td>right</td>\n",
       "      <td>194.0</td>\n",
       "      <td>NaN</td>\n",
       "      <td>IFM</td>\n",
       "      <td>https://img.a.transfermarkt.technology/portrai...</td>\n",
       "      <td>https://www.transfermarkt.co.uk/tom-starke/pro...</td>\n",
       "      <td>L1</td>\n",
       "      <td>FC Bayern München</td>\n",
       "      <td>100000.0</td>\n",
       "      <td>3000000.0</td>\n",
       "    </tr>\n",
       "  </tbody>\n",
       "</table>\n",
       "<p>5 rows × 23 columns</p>\n",
       "</div>"
      ],
      "text/plain": [
       "   player_id first_name     last_name                name  last_season  \\\n",
       "0         10   Miroslav         Klose      Miroslav Klose         2015   \n",
       "1         26      Roman  Weidenfeller  Roman Weidenfeller         2017   \n",
       "2         65    Dimitar      Berbatov    Dimitar Berbatov         2015   \n",
       "3         77        NaN         Lúcio               Lúcio         2012   \n",
       "4         80        Tom        Starke          Tom Starke         2017   \n",
       "\n",
       "   current_club_id         player_code    country_of_birth city_of_birth  \\\n",
       "0              398      miroslav-klose              Poland         Opole   \n",
       "1               16  roman-weidenfeller             Germany          Diez   \n",
       "2             1091    dimitar-berbatov            Bulgaria   Blagoevgrad   \n",
       "3              506               lucio              Brazil      Brasília   \n",
       "4               27          tom-starke  East Germany (GDR)       Freital   \n",
       "\n",
       "  country_of_citizenship  ...   foot height_in_cm contract_expiration_date  \\\n",
       "0                Germany  ...  right        184.0                      NaN   \n",
       "1                Germany  ...   left        190.0                      NaN   \n",
       "2               Bulgaria  ...    NaN          NaN                      NaN   \n",
       "3                 Brazil  ...    NaN          NaN                      NaN   \n",
       "4                Germany  ...  right        194.0                      NaN   \n",
       "\n",
       "             agent_name                                          image_url  \\\n",
       "0  ASBW Sport Marketing  https://img.a.transfermarkt.technology/portrai...   \n",
       "1      Neubauer 13 GmbH  https://img.a.transfermarkt.technology/portrai...   \n",
       "2       CSKA-AS-23 Ltd.  https://img.a.transfermarkt.technology/portrai...   \n",
       "3                   NaN  https://img.a.transfermarkt.technology/portrai...   \n",
       "4                   IFM  https://img.a.transfermarkt.technology/portrai...   \n",
       "\n",
       "                                                 url  \\\n",
       "0  https://www.transfermarkt.co.uk/miroslav-klose...   \n",
       "1  https://www.transfermarkt.co.uk/roman-weidenfe...   \n",
       "2  https://www.transfermarkt.co.uk/dimitar-berbat...   \n",
       "3  https://www.transfermarkt.co.uk/lucio/profil/s...   \n",
       "4  https://www.transfermarkt.co.uk/tom-starke/pro...   \n",
       "\n",
       "  current_club_domestic_competition_id  \\\n",
       "0                                  IT1   \n",
       "1                                   L1   \n",
       "2                                  GR1   \n",
       "3                                  IT1   \n",
       "4                                   L1   \n",
       "\n",
       "                                   current_club_name market_value_in_eur  \\\n",
       "0                      Società Sportiva Lazio S.p.A.           1000000.0   \n",
       "1                                  Borussia Dortmund            750000.0   \n",
       "2  Panthessalonikios Athlitikos Omilos Konstantin...           1000000.0   \n",
       "3                             Juventus Football Club            200000.0   \n",
       "4                                  FC Bayern München            100000.0   \n",
       "\n",
       "  highest_market_value_in_eur  \n",
       "0                  30000000.0  \n",
       "1                   8000000.0  \n",
       "2                  34500000.0  \n",
       "3                  24500000.0  \n",
       "4                   3000000.0  \n",
       "\n",
       "[5 rows x 23 columns]"
      ]
     },
     "execution_count": 1,
     "metadata": {},
     "output_type": "execute_result"
    }
   ],
   "source": [
    "import pandas as pd \n",
    "# %pip install scipy \n",
    "from scipy import stats \n",
    "url = \"https://raw.githubusercontent.com/nkmwicz/data-for-students/refs/heads/main/soccer-players.csv\"\n",
    "df = pd.read_csv(url)\n",
    "df.head()"
   ]
  },
  {
   "cell_type": "code",
   "execution_count": 2,
   "id": "b3d47127",
   "metadata": {},
   "outputs": [
    {
     "name": "stdout",
     "output_type": "stream",
     "text": [
      "<class 'pandas.core.frame.DataFrame'>\n",
      "RangeIndex: 32403 entries, 0 to 32402\n",
      "Data columns (total 23 columns):\n",
      " #   Column                                Non-Null Count  Dtype  \n",
      "---  ------                                --------------  -----  \n",
      " 0   player_id                             32403 non-null  int64  \n",
      " 1   first_name                            30345 non-null  object \n",
      " 2   last_name                             32403 non-null  object \n",
      " 3   name                                  32403 non-null  object \n",
      " 4   last_season                           32403 non-null  int64  \n",
      " 5   current_club_id                       32403 non-null  int64  \n",
      " 6   player_code                           32403 non-null  object \n",
      " 7   country_of_birth                      29600 non-null  object \n",
      " 8   city_of_birth                         29942 non-null  object \n",
      " 9   country_of_citizenship                32023 non-null  object \n",
      " 10  date_of_birth                         32356 non-null  object \n",
      " 11  sub_position                          32218 non-null  object \n",
      " 12  position                              32403 non-null  object \n",
      " 13  foot                                  29810 non-null  object \n",
      " 14  height_in_cm                          30059 non-null  float64\n",
      " 15  contract_expiration_date              20272 non-null  object \n",
      " 16  agent_name                            16388 non-null  object \n",
      " 17  image_url                             32403 non-null  object \n",
      " 18  url                                   32403 non-null  object \n",
      " 19  current_club_domestic_competition_id  32403 non-null  object \n",
      " 20  current_club_name                     32403 non-null  object \n",
      " 21  market_value_in_eur                   30869 non-null  float64\n",
      " 22  highest_market_value_in_eur           30869 non-null  float64\n",
      "dtypes: float64(3), int64(3), object(17)\n",
      "memory usage: 5.7+ MB\n"
     ]
    }
   ],
   "source": [
    "df.info()"
   ]
  },
  {
   "cell_type": "code",
   "execution_count": 3,
   "id": "7c271bdc",
   "metadata": {},
   "outputs": [
    {
     "data": {
      "text/plain": [
       "(32403, 23)"
      ]
     },
     "execution_count": 3,
     "metadata": {},
     "output_type": "execute_result"
    }
   ],
   "source": [
    "df.shape "
   ]
  },
  {
   "cell_type": "code",
   "execution_count": 5,
   "id": "e4edf238",
   "metadata": {},
   "outputs": [
    {
     "data": {
      "text/html": [
       "<div>\n",
       "<style scoped>\n",
       "    .dataframe tbody tr th:only-of-type {\n",
       "        vertical-align: middle;\n",
       "    }\n",
       "\n",
       "    .dataframe tbody tr th {\n",
       "        vertical-align: top;\n",
       "    }\n",
       "\n",
       "    .dataframe thead th {\n",
       "        text-align: right;\n",
       "    }\n",
       "</style>\n",
       "<table border=\"1\" class=\"dataframe\">\n",
       "  <thead>\n",
       "    <tr style=\"text-align: right;\">\n",
       "      <th></th>\n",
       "      <th>player_id</th>\n",
       "      <th>last_season</th>\n",
       "      <th>current_club_id</th>\n",
       "      <th>height_in_cm</th>\n",
       "      <th>market_value_in_eur</th>\n",
       "      <th>highest_market_value_in_eur</th>\n",
       "    </tr>\n",
       "  </thead>\n",
       "  <tbody>\n",
       "    <tr>\n",
       "      <th>count</th>\n",
       "      <td>3.240300e+04</td>\n",
       "      <td>32403.000000</td>\n",
       "      <td>32403.000000</td>\n",
       "      <td>30059.000000</td>\n",
       "      <td>3.086900e+04</td>\n",
       "      <td>3.086900e+04</td>\n",
       "    </tr>\n",
       "    <tr>\n",
       "      <th>mean</th>\n",
       "      <td>3.445789e+05</td>\n",
       "      <td>2019.337777</td>\n",
       "      <td>4809.252045</td>\n",
       "      <td>182.291161</td>\n",
       "      <td>1.611350e+06</td>\n",
       "      <td>3.675045e+06</td>\n",
       "    </tr>\n",
       "    <tr>\n",
       "      <th>std</th>\n",
       "      <td>2.806831e+05</td>\n",
       "      <td>3.965914</td>\n",
       "      <td>11601.982978</td>\n",
       "      <td>6.971224</td>\n",
       "      <td>6.362017e+06</td>\n",
       "      <td>9.653897e+06</td>\n",
       "    </tr>\n",
       "    <tr>\n",
       "      <th>min</th>\n",
       "      <td>1.000000e+01</td>\n",
       "      <td>2012.000000</td>\n",
       "      <td>3.000000</td>\n",
       "      <td>17.000000</td>\n",
       "      <td>1.000000e+04</td>\n",
       "      <td>1.000000e+04</td>\n",
       "    </tr>\n",
       "    <tr>\n",
       "      <th>25%</th>\n",
       "      <td>1.066980e+05</td>\n",
       "      <td>2016.000000</td>\n",
       "      <td>403.000000</td>\n",
       "      <td>178.000000</td>\n",
       "      <td>1.000000e+05</td>\n",
       "      <td>2.750000e+05</td>\n",
       "    </tr>\n",
       "    <tr>\n",
       "      <th>50%</th>\n",
       "      <td>2.824210e+05</td>\n",
       "      <td>2020.000000</td>\n",
       "      <td>1071.000000</td>\n",
       "      <td>183.000000</td>\n",
       "      <td>2.500000e+05</td>\n",
       "      <td>8.000000e+05</td>\n",
       "    </tr>\n",
       "    <tr>\n",
       "      <th>75%</th>\n",
       "      <td>5.242085e+05</td>\n",
       "      <td>2023.000000</td>\n",
       "      <td>3060.000000</td>\n",
       "      <td>187.000000</td>\n",
       "      <td>7.000000e+05</td>\n",
       "      <td>2.800000e+06</td>\n",
       "    </tr>\n",
       "    <tr>\n",
       "      <th>max</th>\n",
       "      <td>1.309800e+06</td>\n",
       "      <td>2024.000000</td>\n",
       "      <td>110302.000000</td>\n",
       "      <td>207.000000</td>\n",
       "      <td>2.000000e+08</td>\n",
       "      <td>2.000000e+08</td>\n",
       "    </tr>\n",
       "  </tbody>\n",
       "</table>\n",
       "</div>"
      ],
      "text/plain": [
       "          player_id   last_season  current_club_id  height_in_cm  \\\n",
       "count  3.240300e+04  32403.000000     32403.000000  30059.000000   \n",
       "mean   3.445789e+05   2019.337777      4809.252045    182.291161   \n",
       "std    2.806831e+05      3.965914     11601.982978      6.971224   \n",
       "min    1.000000e+01   2012.000000         3.000000     17.000000   \n",
       "25%    1.066980e+05   2016.000000       403.000000    178.000000   \n",
       "50%    2.824210e+05   2020.000000      1071.000000    183.000000   \n",
       "75%    5.242085e+05   2023.000000      3060.000000    187.000000   \n",
       "max    1.309800e+06   2024.000000    110302.000000    207.000000   \n",
       "\n",
       "       market_value_in_eur  highest_market_value_in_eur  \n",
       "count         3.086900e+04                 3.086900e+04  \n",
       "mean          1.611350e+06                 3.675045e+06  \n",
       "std           6.362017e+06                 9.653897e+06  \n",
       "min           1.000000e+04                 1.000000e+04  \n",
       "25%           1.000000e+05                 2.750000e+05  \n",
       "50%           2.500000e+05                 8.000000e+05  \n",
       "75%           7.000000e+05                 2.800000e+06  \n",
       "max           2.000000e+08                 2.000000e+08  "
      ]
     },
     "execution_count": 5,
     "metadata": {},
     "output_type": "execute_result"
    }
   ],
   "source": [
    "df. describe()"
   ]
  },
  {
   "cell_type": "code",
   "execution_count": 6,
   "id": "8a0b4bb7",
   "metadata": {},
   "outputs": [
    {
     "data": {
      "text/plain": [
       "np.float64(182.29116071725608)"
      ]
     },
     "execution_count": 6,
     "metadata": {},
     "output_type": "execute_result"
    }
   ],
   "source": [
    "df['height_in_cm'].mean()"
   ]
  },
  {
   "cell_type": "code",
   "execution_count": 13,
   "id": "9f45b568",
   "metadata": {},
   "outputs": [
    {
     "data": {
      "text/plain": [
       "183.0"
      ]
     },
     "execution_count": 13,
     "metadata": {},
     "output_type": "execute_result"
    }
   ],
   "source": [
    "def convert(float:float) -> float:\n",
    "    return float * 0.0328084\n",
    "\n",
    "df['height_in_cm'].median()\n"
   ]
  },
  {
   "cell_type": "code",
   "execution_count": 14,
   "id": "37c40469",
   "metadata": {},
   "outputs": [
    {
     "data": {
      "text/plain": [
       "180.0"
      ]
     },
     "execution_count": 14,
     "metadata": {},
     "output_type": "execute_result"
    }
   ],
   "source": [
    "import statistics as stats \n",
    "stats.mean(df['height_in_cm'].dropna())\n",
    "stats.median(df['height_in_cm'].dropna())\n",
    "stats.mode(df['height_in_cm'].dropna())"
   ]
  },
  {
   "cell_type": "code",
   "execution_count": 15,
   "id": "20ecdb83",
   "metadata": {},
   "outputs": [
    {
     "data": {
      "text/plain": [
       "207.0"
      ]
     },
     "execution_count": 15,
     "metadata": {},
     "output_type": "execute_result"
    }
   ],
   "source": [
    "df['height_in_cm'].min()\n",
    "df['height_in_cm'].max()"
   ]
  },
  {
   "cell_type": "code",
   "execution_count": 17,
   "id": "2797c264",
   "metadata": {},
   "outputs": [
    {
     "data": {
      "text/plain": [
       "np.float64(-1.7750589204621985)"
      ]
     },
     "execution_count": 17,
     "metadata": {},
     "output_type": "execute_result"
    }
   ],
   "source": [
    "from scipy import stats as st \n",
    "# st.skew(df['height_in_cm'].dropna())\n",
    "st.skew(df['height_in_cm'], nan_policy=\"omit\")"
   ]
  },
  {
   "cell_type": "code",
   "execution_count": null,
   "id": "da03c54b",
   "metadata": {},
   "outputs": [
    {
     "data": {
      "text/plain": [
       "25290    19.0\n",
       "25976    18.0\n",
       "26907    18.0\n",
       "30360    17.0\n",
       "Name: height_in_cm, dtype: float64"
      ]
     },
     "execution_count": 20,
     "metadata": {},
     "output_type": "execute_result"
    }
   ],
   "source": [
    "df.loc[df['height_in_cm'] < 100, 'height_in_cm'] #.count()"
   ]
  },
  {
   "cell_type": "code",
   "execution_count": 21,
   "id": "48961092",
   "metadata": {},
   "outputs": [
    {
     "data": {
      "text/plain": [
       "4.92126"
      ]
     },
     "execution_count": 21,
     "metadata": {},
     "output_type": "execute_result"
    }
   ],
   "source": [
    "convert(150)"
   ]
  },
  {
   "cell_type": "code",
   "execution_count": 22,
   "id": "89249909",
   "metadata": {},
   "outputs": [
    {
     "data": {
      "text/plain": [
       "np.float64(40.36548066183285)"
      ]
     },
     "execution_count": 22,
     "metadata": {},
     "output_type": "execute_result"
    }
   ],
   "source": [
    "st.kurtosis(df['height_in_cm'], nan_policy=\"omit\")"
   ]
  },
  {
   "cell_type": "code",
   "execution_count": null,
   "id": "3859e47e",
   "metadata": {},
   "outputs": [],
   "source": [
    "df = df.loc[df['height_in_cm'] > 150]"
   ]
  },
  {
   "cell_type": "code",
   "execution_count": 23,
   "id": "4a48fa50",
   "metadata": {},
   "outputs": [
    {
     "name": "stdout",
     "output_type": "stream",
     "text": [
      "old space = (32403, 23)\n",
      "new shape = (30055, 23)\n"
     ]
    }
   ],
   "source": [
    "print(f\"old space = {df.shape}\")\n",
    "df = df.loc[df['height_in_cm'] > 150]\n",
    "print(f\"new shape = {df.shape}\")"
   ]
  },
  {
   "cell_type": "code",
   "execution_count": 24,
   "id": "24d1d27a",
   "metadata": {},
   "outputs": [
    {
     "name": "stdout",
     "output_type": "stream",
     "text": [
      "skew = -0.046876795739341504; kurt = -0.3076357973086874\n"
     ]
    }
   ],
   "source": [
    "sk = st.skew(df['height_in_cm'])\n",
    "kurt = st.kurtosis(df['height_in_cm'])\n",
    "print(f\"skew = {sk}; kurt = {kurt}\")"
   ]
  },
  {
   "cell_type": "code",
   "execution_count": null,
   "id": "269d352a",
   "metadata": {},
   "outputs": [
    {
     "ename": "SyntaxError",
     "evalue": "unterminated string literal (detected at line 3) (2588808452.py, line 3)",
     "output_type": "error",
     "traceback": [
      "\u001b[0;36m  Cell \u001b[0;32mIn[27], line 3\u001b[0;36m\u001b[0m\n\u001b[0;31m    print(f\"{'=' *4}\"{col}{'='*4}\")\u001b[0m\n\u001b[0m                                 ^\u001b[0m\n\u001b[0;31mSyntaxError\u001b[0m\u001b[0;31m:\u001b[0m unterminated string literal (detected at line 3)\n"
     ]
    }
   ],
   "source": [
    "def eda(df:pd.DataFrame) -> None:\n",
    "    print(f\"DF shape = {df.shape}\")\n",
    "    for col in df.columns:\n",
    "        print(f\"{'='*4}\"{col}{'='*4}\")\n",
    "        if pd.api.types.is_numeric_dtype(df[col]):\n",
    "         print(f\"\\t{col} is numeric\")\n",
    "         print(f\"\\t Mean = {df[col].mean()}\")\n",
    "         print(f\"Median = {df[col].median()}\")\n",
    "         print(f\"Mode = {df[col].mode()}\")\n",
    "         print(f\"\\t ST.Dev = {df[col.std(): 3f]}\")\n",
    "         print(f\"\\t 33%ile = {df[col].quantile(0.33)}\")\n",
    "         print(f\"\\t 66%ile = {df[col].quantile(0.66)}\")\n",
    "        else:\n",
    "            print(f\"\\t{col} is categorical\")\n",
    "            print(f\"\\t # Nullish = {df[col].isna().sum()}\")\n",
    "            print(f\"\\t\")\n",
    "            \n",
    "eda(df)"
   ]
  }
 ],
 "metadata": {
  "kernelspec": {
   "display_name": "base",
   "language": "python",
   "name": "python3"
  },
  "language_info": {
   "codemirror_mode": {
    "name": "ipython",
    "version": 3
   },
   "file_extension": ".py",
   "mimetype": "text/x-python",
   "name": "python",
   "nbconvert_exporter": "python",
   "pygments_lexer": "ipython3",
   "version": "3.13.5"
  }
 },
 "nbformat": 4,
 "nbformat_minor": 5
}
