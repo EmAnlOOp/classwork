{
 "cells": [
  {
   "cell_type": "code",
   "execution_count": 13,
   "id": "1e76333b",
   "metadata": {},
   "outputs": [
    {
     "name": "stdout",
     "output_type": "stream",
     "text": [
      "info: this isnt working\n",
      "info: this isnt working\n",
      "info: hello\n",
      "info: defeat\n"
     ]
    }
   ],
   "source": [
    "def my_fx(type,str= \"defeat\"):\n",
    "    print(f\"{type}: {str}\") \n",
    "my_fx('info', \"this isnt working\")\n",
    "my_fx(type= \"info\", str= \"this isnt working\")\n",
    "my_fx(\"info\", str= \"hello\")\n",
    "my_fx(\"info\")"
   ]
  },
  {
   "cell_type": "code",
   "execution_count": 35,
   "id": "6e0209c5",
   "metadata": {},
   "outputs": [],
   "source": [
    "def get_gcf(num1: int, num2: int): \n",
    "    half_num1: round(num1/2)\n",
    "    half_num2: round(num2/2)\n",
    "    l_num1=[]\n",
    "    l_num2=[]\n",
    "    for n1 in range(1, half_num1 + 1):\n",
    "        if num1 % n1 == 0: \n",
    "            l_num1.append(n1)\n",
    "    for n2 in range(1, half_num2 + 1): \n",
    "        if num2 % n2 == 0:\n",
    "            l_num2.append(n2)\n",
    "    s_num1 = set(l_num1)\n",
    "    s_num2 = set(l_num2)\n",
    "    common_nums = list(s_num1 & s_num2)\n",
    "    gcf = max(common_nums)\n",
    "    return gcf \n",
    "    "
   ]
  },
  {
   "cell_type": "code",
   "execution_count": 34,
   "id": "b9266e1b",
   "metadata": {},
   "outputs": [
    {
     "ename": "UnboundLocalError",
     "evalue": "cannot access local variable 'half_num1' where it is not associated with a value",
     "output_type": "error",
     "traceback": [
      "\u001b[0;31m---------------------------------------------------------------------------\u001b[0m",
      "\u001b[0;31mUnboundLocalError\u001b[0m                         Traceback (most recent call last)",
      "Cell \u001b[0;32mIn[34], line 1\u001b[0m\n\u001b[0;32m----> 1\u001b[0m gcf \u001b[38;5;241m=\u001b[39m get_gcf(\u001b[38;5;241m24\u001b[39m,\u001b[38;5;241m12\u001b[39m)\n\u001b[1;32m      2\u001b[0m \u001b[38;5;28mprint\u001b[39m(gcf)\n",
      "Cell \u001b[0;32mIn[33], line 6\u001b[0m, in \u001b[0;36mget_gcf\u001b[0;34m(num1, num2)\u001b[0m\n\u001b[1;32m      4\u001b[0m l_num1\u001b[38;5;241m=\u001b[39m[]\n\u001b[1;32m      5\u001b[0m l_num2\u001b[38;5;241m=\u001b[39m[]\n\u001b[0;32m----> 6\u001b[0m \u001b[38;5;28;01mfor\u001b[39;00m n1 \u001b[38;5;129;01min\u001b[39;00m \u001b[38;5;28mrange\u001b[39m(\u001b[38;5;241m1\u001b[39m, half_num1 \u001b[38;5;241m+\u001b[39m \u001b[38;5;241m1\u001b[39m):\n\u001b[1;32m      7\u001b[0m     \u001b[38;5;28;01mif\u001b[39;00m num1 \u001b[38;5;241m%\u001b[39m n1 \u001b[38;5;241m==\u001b[39m \u001b[38;5;241m0\u001b[39m: \n\u001b[1;32m      8\u001b[0m         l_num1\u001b[38;5;241m.\u001b[39mappend(n1)\n",
      "\u001b[0;31mUnboundLocalError\u001b[0m: cannot access local variable 'half_num1' where it is not associated with a value"
     ]
    }
   ],
   "source": [
    "gcf = get_gcf(24,12)\n",
    "print(gcf)"
   ]
  }
 ],
 "metadata": {
  "kernelspec": {
   "display_name": "base",
   "language": "python",
   "name": "python3"
  },
  "language_info": {
   "codemirror_mode": {
    "name": "ipython",
    "version": 3
   },
   "file_extension": ".py",
   "mimetype": "text/x-python",
   "name": "python",
   "nbconvert_exporter": "python",
   "pygments_lexer": "ipython3",
   "version": "3.13.5"
  }
 },
 "nbformat": 4,
 "nbformat_minor": 5
}
