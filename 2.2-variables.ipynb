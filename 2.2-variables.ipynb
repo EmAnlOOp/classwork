{
 "cells": [
  {
   "cell_type": "code",
   "execution_count": null,
   "id": "5e1d78ae",
   "metadata": {},
   "outputs": [],
   "source": [
    "# str, int, float, booleans, (sudo code)_checkmark\n",
    "# complex /collection data types \n",
    "## list, dict, tuple, set \n",
    "# methods \n",
    "# coercing \n",
    "# f-strings, \n",
    "# type hinting "
   ]
  },
  {
   "cell_type": "code",
   "execution_count": 4,
   "id": "4855b67f",
   "metadata": {},
   "outputs": [
    {
     "data": {
      "text/plain": [
       "(4, 0)"
      ]
     },
     "execution_count": 4,
     "metadata": {},
     "output_type": "execute_result"
    }
   ],
   "source": [
    "# list\n",
    "## changeable,duplicates,ordered\n",
    "# index is base 0 \n",
    "# length starts @ 1 \n",
    "ex_list = [1, 1.0, \"1.0\", True] \n",
    "ex_list1 = list()\n",
    "ex_list, ex_list1\n",
    "len(ex_list), len(ex_list1)"
   ]
  },
  {
   "cell_type": "code",
   "execution_count": 16,
   "id": "ca5de5fe",
   "metadata": {},
   "outputs": [
    {
     "name": "stdout",
     "output_type": "stream",
     "text": [
      "True\n",
      "[1.0, '1.0']\n",
      "[1, 1.0, '1.0']\n",
      "['1.0', True]\n"
     ]
    }
   ],
   "source": [
    "#assesing list items \n",
    "ex_list[3]\n",
    "# getting last item \n",
    "ex_list[len(ex_list)-1]\n",
    "print(ex_list[-1])\n",
    "ex_list[-2] + ex_list[-2]\n",
    "# get series of items (the first number is inclusive and the second number is exclusive)\n",
    "print(ex_list[1:3])\n",
    "# all up to the 3rd index \n",
    "print(ex_list[:3])\n",
    "# all up to a specific index \n",
    "print(ex_list[2:])"
   ]
  },
  {
   "cell_type": "code",
   "execution_count": null,
   "id": "f61cf172",
   "metadata": {},
   "outputs": [],
   "source": [
    "# list methods (an object is an entity and has parameters)\n",
    "# pop, append, extend, remove\n",
    "my_list = (1,2,3,4)\n",
    "my_list.pop()"
   ]
  },
  {
   "cell_type": "code",
   "execution_count": null,
   "id": "a4196cd9",
   "metadata": {},
   "outputs": [
    {
     "ename": "AttributeError",
     "evalue": "'tuple' object has no attribute 'pop'",
     "output_type": "error",
     "traceback": [
      "\u001b[0;31m---------------------------------------------------------------------------\u001b[0m",
      "\u001b[0;31mAttributeError\u001b[0m                            Traceback (most recent call last)",
      "Cell \u001b[0;32mIn[22], line 1\u001b[0m\n\u001b[0;32m----> 1\u001b[0m new_list \u001b[38;5;241m=\u001b[39m my_list\u001b[38;5;241m.\u001b[39mpop()\n\u001b[1;32m      2\u001b[0m new_list\n",
      "\u001b[0;31mAttributeError\u001b[0m: 'tuple' object has no attribute 'pop'"
     ]
    }
   ],
   "source": [
    "new_list = my_list.pop()\n",
    "new_list"
   ]
  },
  {
   "cell_type": "code",
   "execution_count": 23,
   "id": "d7cee12c",
   "metadata": {},
   "outputs": [
    {
     "data": {
      "text/plain": [
       "[1, 1.0, '1.0']"
      ]
     },
     "execution_count": 23,
     "metadata": {},
     "output_type": "execute_result"
    }
   ],
   "source": [
    "ex_list[:-1]"
   ]
  },
  {
   "cell_type": "code",
   "execution_count": 24,
   "id": "d21fcbed",
   "metadata": {},
   "outputs": [
    {
     "data": {
      "text/plain": [
       "[1, 1.0, '1.0', True]"
      ]
     },
     "execution_count": 24,
     "metadata": {},
     "output_type": "execute_result"
    }
   ],
   "source": [
    "ex_list"
   ]
  },
  {
   "cell_type": "code",
   "execution_count": 26,
   "id": "1fc4c20f",
   "metadata": {},
   "outputs": [
    {
     "data": {
      "text/plain": [
       "[1, 1.0, '1.0']"
      ]
     },
     "execution_count": 26,
     "metadata": {},
     "output_type": "execute_result"
    }
   ],
   "source": [
    "ex_list = ex_list[:-1]\n",
    "ex_list"
   ]
  },
  {
   "cell_type": "code",
   "execution_count": 28,
   "id": "50d16a0c",
   "metadata": {},
   "outputs": [
    {
     "data": {
      "text/plain": [
       "[1, 1.0, '1.0', 'True', 'True']"
      ]
     },
     "execution_count": 28,
     "metadata": {},
     "output_type": "execute_result"
    }
   ],
   "source": [
    "# apend\n",
    "ex_list.append(\"True\")\n",
    "ex_list"
   ]
  },
  {
   "cell_type": "code",
   "execution_count": 31,
   "id": "e2d3a021",
   "metadata": {},
   "outputs": [
    {
     "data": {
      "text/plain": [
       "[1, 1.0, '1.0', (1, 2, 3, 4), 'True', 'True']"
      ]
     },
     "execution_count": 31,
     "metadata": {},
     "output_type": "execute_result"
    }
   ],
   "source": [
    "ex_list.insert(3,my_list)\n",
    "ex_list"
   ]
  },
  {
   "cell_type": "code",
   "execution_count": 40,
   "id": "dc429f37",
   "metadata": {},
   "outputs": [
    {
     "data": {
      "text/plain": [
       "[['R', 'H', 'B', 'Q', 'K', 'B', 'H', 'R'],\n",
       " ['P', 'P', 'P', 'P', 'P', 'P', 'P', 'P'],\n",
       " ['', '', '', '', '', '', '', ''],\n",
       " ['', '', '', '', '', '', '', ''],\n",
       " ['', '', '', '', '', '', '', ''],\n",
       " ['', '', '', '', '', '', '', ''],\n",
       " ['P', 'P', 'P', 'P', 'P', 'P', 'P', 'P'],\n",
       " ['R', 'H', 'B', 'Q', 'K', 'B', 'H', 'R']]"
      ]
     },
     "execution_count": 40,
     "metadata": {},
     "output_type": "execute_result"
    }
   ],
   "source": [
    "good_pieces = [\"R\", \"H\", \"B\", \"Q\", \"K\", \"B\", \"H\", \"R\"]\n",
    "pawns = [\"P\"] * 8 \n",
    "empties = [\"\"] * 8 \n",
    "chess = [\n",
    "    good_pieces.copy(), \n",
    "    pawns.copy(), \n",
    "    empties.copy(), \n",
    "    empties.copy(), \n",
    "    empties.copy(), \n",
    "    empties.copy(), \n",
    "    pawns.copy(), \n",
    "    good_pieces.copy(), \n",
    "]\n",
    "chess"
   ]
  },
  {
   "cell_type": "code",
   "execution_count": 41,
   "id": "bf83b92d",
   "metadata": {},
   "outputs": [
    {
     "data": {
      "text/plain": [
       "[['R', '', 'B', 'Q', 'K', 'B', 'H', 'R'],\n",
       " ['P', 'P', 'P', 'P', 'P', 'P', 'P', 'P'],\n",
       " ['H', '', '', '', '', '', '', ''],\n",
       " ['', '', '', '', '', '', '', ''],\n",
       " ['', '', '', '', '', '', '', ''],\n",
       " ['', '', '', '', '', '', '', ''],\n",
       " ['P', 'P', 'P', 'P', 'P', 'P', 'P', 'P'],\n",
       " ['R', 'H', 'B', 'Q', 'K', 'B', 'H', 'R']]"
      ]
     },
     "execution_count": 41,
     "metadata": {},
     "output_type": "execute_result"
    }
   ],
   "source": [
    "# first move \n",
    "# chess[0][chess[0].index(\"H\")]\n",
    "chess[2][0] = chess[0][1]\n",
    "chess[0][1] = \"\"\n",
    "chess"
   ]
  },
  {
   "cell_type": "code",
   "execution_count": 44,
   "id": "f71475e2",
   "metadata": {},
   "outputs": [
    {
     "data": {
      "text/plain": [
       "[1, 1.0, '1.0', (1, 2, 3, 4), 'True', 'True', (1, 2, 3, 4), (1, 2, 3, 4)]"
      ]
     },
     "execution_count": 44,
     "metadata": {},
     "output_type": "execute_result"
    }
   ],
   "source": [
    "ex_list.append(my_list)\n",
    "ex_list"
   ]
  },
  {
   "cell_type": "code",
   "execution_count": 45,
   "id": "1b6f6083",
   "metadata": {},
   "outputs": [
    {
     "data": {
      "text/plain": [
       "[1,\n",
       " 1.0,\n",
       " '1.0',\n",
       " (1, 2, 3, 4),\n",
       " 'True',\n",
       " 'True',\n",
       " (1, 2, 3, 4),\n",
       " (1, 2, 3, 4),\n",
       " 1,\n",
       " 2,\n",
       " 3,\n",
       " 4]"
      ]
     },
     "execution_count": 45,
     "metadata": {},
     "output_type": "execute_result"
    }
   ],
   "source": [
    "ex_list.extend(my_list)\n",
    "ex_list"
   ]
  },
  {
   "cell_type": "code",
   "execution_count": 50,
   "id": "d380592e",
   "metadata": {},
   "outputs": [],
   "source": [
    "# set \n",
    "## collections, unordered, unindexed, no duplicates, mutable (changeable)\n",
    "# ex_set = {1,2,3,3,4,1}\n",
    "# ex_set = set(1,2,3,4))\n",
    "ex_list.pop(3)\n",
    "ex_set = set(ex_list)"
   ]
  },
  {
   "cell_type": "code",
   "execution_count": 60,
   "id": "df715944",
   "metadata": {},
   "outputs": [
    {
     "data": {
      "text/plain": [
       "[1, 2, 3, 4, 5, 6]"
      ]
     },
     "execution_count": 60,
     "metadata": {},
     "output_type": "execute_result"
    }
   ],
   "source": [
    "l1 = [1,2,3]\n",
    "l2 = [4,5,6]\n",
    "l3 = [*l1, *l2]\n",
    "l3"
   ]
  },
  {
   "cell_type": "code",
   "execution_count": 52,
   "id": "f8832732",
   "metadata": {},
   "outputs": [
    {
     "data": {
      "text/plain": [
       "{(1, 2, 3, 4), 1, '1.0', 2, 3, 4, 'True'}"
      ]
     },
     "execution_count": 52,
     "metadata": {},
     "output_type": "execute_result"
    }
   ],
   "source": [
    "ex_set.add(4)\n",
    "ex_set\n"
   ]
  },
  {
   "cell_type": "code",
   "execution_count": 53,
   "id": "72a1b6de",
   "metadata": {},
   "outputs": [
    {
     "data": {
      "text/plain": [
       "{(1, 2, 3, 4), 1, 2, 3, 4, 'True'}"
      ]
     },
     "execution_count": 53,
     "metadata": {},
     "output_type": "execute_result"
    }
   ],
   "source": [
    "ex_set.remove(\"1.0\")\n",
    "ex_set"
   ]
  },
  {
   "cell_type": "code",
   "execution_count": 59,
   "id": "af0f3df6",
   "metadata": {},
   "outputs": [
    {
     "data": {
      "text/plain": [
       "{(1, 2, 3, 4), 3, 4, 'True'}"
      ]
     },
     "execution_count": 59,
     "metadata": {},
     "output_type": "execute_result"
    }
   ],
   "source": [
    "ex_set1 = {1,2,5,6}\n",
    "ex_set - ex_set1"
   ]
  },
  {
   "cell_type": "code",
   "execution_count": 61,
   "id": "f12c6a5e",
   "metadata": {},
   "outputs": [
    {
     "data": {
      "text/plain": [
       "(1, 2, 3, 4)"
      ]
     },
     "execution_count": 61,
     "metadata": {},
     "output_type": "execute_result"
    }
   ],
   "source": [
    "# tubble \n",
    "## collection, ordered, unmutable, indexed \n",
    "tuple1 = (1,2,3,4)\n",
    "tuple2 = tuple((2,3,4,5,56))\n",
    "tuple1"
   ]
  },
  {
   "cell_type": "code",
   "execution_count": 62,
   "id": "a2da56b3",
   "metadata": {},
   "outputs": [
    {
     "data": {
      "text/plain": [
       "3"
      ]
     },
     "execution_count": 62,
     "metadata": {},
     "output_type": "execute_result"
    }
   ],
   "source": [
    "tuple1[2]"
   ]
  },
  {
   "cell_type": "code",
   "execution_count": null,
   "id": "1078d755",
   "metadata": {},
   "outputs": [
    {
     "data": {
      "text/plain": [
       "{'name': 'Nate', 'age': '39'}"
      ]
     },
     "execution_count": 63,
     "metadata": {},
     "output_type": "execute_result"
    }
   ],
   "source": [
    "# dictionaries \n",
    "## key:value pairs, indexed by key, allow duplicates, mutable \n",
    "# can also add lists to dictionaries \n",
    "dict1 = {}\n",
    "dict1 = dict(name=\"Nate\", age= \"39\",)\n",
    "dict1"
   ]
  },
  {
   "cell_type": "code",
   "execution_count": null,
   "id": "b2d00430",
   "metadata": {},
   "outputs": [
    {
     "data": {
      "text/plain": [
       "('Nate', '39')"
      ]
     },
     "execution_count": 64,
     "metadata": {},
     "output_type": "execute_result"
    }
   ],
   "source": [
    "# access a dictionary \n",
    "# bracket notation \n",
    "dict1[\"name\"], dict1[\"age\"]"
   ]
  },
  {
   "cell_type": "code",
   "execution_count": 65,
   "id": "2e543e04",
   "metadata": {},
   "outputs": [
    {
     "data": {
      "text/plain": [
       "{'name': 'Nate', 'age': '39', 1: 'A number'}"
      ]
     },
     "execution_count": 65,
     "metadata": {},
     "output_type": "execute_result"
    }
   ],
   "source": [
    "dict1[1] = \"A number\"\n",
    "dict1"
   ]
  },
  {
   "cell_type": "code",
   "execution_count": 66,
   "id": "02a4cd05",
   "metadata": {},
   "outputs": [
    {
     "data": {
      "text/plain": [
       "'Nate'"
      ]
     },
     "execution_count": 66,
     "metadata": {},
     "output_type": "execute_result"
    }
   ],
   "source": [
    "n = \"name\"\n",
    "dict1[n]"
   ]
  },
  {
   "cell_type": "code",
   "execution_count": 71,
   "id": "efa6c91f",
   "metadata": {},
   "outputs": [
    {
     "name": "stdout",
     "output_type": "stream",
     "text": [
      "My name is nate, and I like ice cream\n"
     ]
    }
   ],
   "source": [
    "name = \"nate\"\n",
    "age = 39\n",
    "location = \"Charlotte\"\n",
    "favorite_food = input(\"What is your favorite food?\")\n",
    "person = {\n",
    "    \"name\" :name, \n",
    "    \"age\": age, \n",
    "    \"location\": location, \n",
    "    \"food\": favorite_food,\n",
    "}\n",
    "print(f\"My name is {person['name']}, and I like {person['food']}\")"
   ]
  }
 ],
 "metadata": {
  "kernelspec": {
   "display_name": "base",
   "language": "python",
   "name": "python3"
  },
  "language_info": {
   "codemirror_mode": {
    "name": "ipython",
    "version": 3
   },
   "file_extension": ".py",
   "mimetype": "text/x-python",
   "name": "python",
   "nbconvert_exporter": "python",
   "pygments_lexer": "ipython3",
   "version": "3.13.5"
  }
 },
 "nbformat": 4,
 "nbformat_minor": 5
}
